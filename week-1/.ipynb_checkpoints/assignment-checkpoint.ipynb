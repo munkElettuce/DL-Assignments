{
 "cells": [
  {
   "cell_type": "code",
   "execution_count": 27,
   "id": "b6aab4c6",
   "metadata": {},
   "outputs": [],
   "source": [
    "import numpy as np\n",
    "import pandas as pd\n"
   ]
  },
  {
   "cell_type": "markdown",
   "id": "601aa34d",
   "metadata": {},
   "source": [
    "TASK-1"
   ]
  },
  {
   "cell_type": "code",
   "execution_count": 93,
   "id": "2e3d072c",
   "metadata": {},
   "outputs": [],
   "source": [
    "df=pd.DataFrame(data={\n",
    "    'col-1':np.random.randint(0,11,5),\n",
    "    'col-2':np.random.randint(11,21,5),\n",
    "    'col-3':np.random.randint(11,31,5),\n",
    "    'col-4':np.random.randint(11,41,5)})"
   ]
  },
  {
   "cell_type": "markdown",
   "id": "9c224dda",
   "metadata": {},
   "source": [
    "TASK-2"
   ]
  },
  {
   "cell_type": "code",
   "execution_count": 94,
   "id": "b473a2ba",
   "metadata": {},
   "outputs": [
    {
     "name": "stdout",
     "output_type": "stream",
     "text": [
      "<class 'pandas.core.frame.DataFrame'>\n",
      "RangeIndex: 5 entries, 0 to 4\n",
      "Data columns (total 4 columns):\n",
      " #   Column  Non-Null Count  Dtype\n",
      "---  ------  --------------  -----\n",
      " 0   col-1   5 non-null      int32\n",
      " 1   col-2   5 non-null      int32\n",
      " 2   col-3   5 non-null      int32\n",
      " 3   col-4   5 non-null      int32\n",
      "dtypes: int32(4)\n",
      "memory usage: 208.0 bytes\n"
     ]
    }
   ],
   "source": [
    "df.info()"
   ]
  },
  {
   "cell_type": "markdown",
   "id": "62116638",
   "metadata": {},
   "source": [
    "TASK-3"
   ]
  },
  {
   "cell_type": "code",
   "execution_count": 95,
   "id": "4dfc58ce",
   "metadata": {},
   "outputs": [
    {
     "data": {
      "text/html": [
       "<div>\n",
       "<style scoped>\n",
       "    .dataframe tbody tr th:only-of-type {\n",
       "        vertical-align: middle;\n",
       "    }\n",
       "\n",
       "    .dataframe tbody tr th {\n",
       "        vertical-align: top;\n",
       "    }\n",
       "\n",
       "    .dataframe thead th {\n",
       "        text-align: right;\n",
       "    }\n",
       "</style>\n",
       "<table border=\"1\" class=\"dataframe\">\n",
       "  <thead>\n",
       "    <tr style=\"text-align: right;\">\n",
       "      <th></th>\n",
       "      <th>col-1</th>\n",
       "      <th>col-2</th>\n",
       "      <th>col-3</th>\n",
       "      <th>col-4</th>\n",
       "    </tr>\n",
       "  </thead>\n",
       "  <tbody>\n",
       "    <tr>\n",
       "      <th>count</th>\n",
       "      <td>5.000000</td>\n",
       "      <td>5.000000</td>\n",
       "      <td>5.00000</td>\n",
       "      <td>5.000000</td>\n",
       "    </tr>\n",
       "    <tr>\n",
       "      <th>mean</th>\n",
       "      <td>4.800000</td>\n",
       "      <td>14.200000</td>\n",
       "      <td>21.20000</td>\n",
       "      <td>34.000000</td>\n",
       "    </tr>\n",
       "    <tr>\n",
       "      <th>std</th>\n",
       "      <td>3.701351</td>\n",
       "      <td>4.086563</td>\n",
       "      <td>4.38178</td>\n",
       "      <td>7.071068</td>\n",
       "    </tr>\n",
       "    <tr>\n",
       "      <th>min</th>\n",
       "      <td>0.000000</td>\n",
       "      <td>11.000000</td>\n",
       "      <td>17.00000</td>\n",
       "      <td>23.000000</td>\n",
       "    </tr>\n",
       "    <tr>\n",
       "      <th>25%</th>\n",
       "      <td>2.000000</td>\n",
       "      <td>11.000000</td>\n",
       "      <td>19.00000</td>\n",
       "      <td>31.000000</td>\n",
       "    </tr>\n",
       "    <tr>\n",
       "      <th>50%</th>\n",
       "      <td>6.000000</td>\n",
       "      <td>12.000000</td>\n",
       "      <td>19.00000</td>\n",
       "      <td>37.000000</td>\n",
       "    </tr>\n",
       "    <tr>\n",
       "      <th>75%</th>\n",
       "      <td>7.000000</td>\n",
       "      <td>17.000000</td>\n",
       "      <td>23.00000</td>\n",
       "      <td>39.000000</td>\n",
       "    </tr>\n",
       "    <tr>\n",
       "      <th>max</th>\n",
       "      <td>9.000000</td>\n",
       "      <td>20.000000</td>\n",
       "      <td>28.00000</td>\n",
       "      <td>40.000000</td>\n",
       "    </tr>\n",
       "  </tbody>\n",
       "</table>\n",
       "</div>"
      ],
      "text/plain": [
       "          col-1      col-2     col-3      col-4\n",
       "count  5.000000   5.000000   5.00000   5.000000\n",
       "mean   4.800000  14.200000  21.20000  34.000000\n",
       "std    3.701351   4.086563   4.38178   7.071068\n",
       "min    0.000000  11.000000  17.00000  23.000000\n",
       "25%    2.000000  11.000000  19.00000  31.000000\n",
       "50%    6.000000  12.000000  19.00000  37.000000\n",
       "75%    7.000000  17.000000  23.00000  39.000000\n",
       "max    9.000000  20.000000  28.00000  40.000000"
      ]
     },
     "execution_count": 95,
     "metadata": {},
     "output_type": "execute_result"
    }
   ],
   "source": [
    "df.describe()"
   ]
  },
  {
   "cell_type": "markdown",
   "id": "da4c487e",
   "metadata": {},
   "source": [
    "df=pd.DataFrame(np.random.randint(0,11,4),np.random.randint(0,21,4),np.random.randint(0,31,4),np.random.randint(0,41,4))"
   ]
  },
  {
   "cell_type": "markdown",
   "id": "4f91ae67",
   "metadata": {},
   "source": [
    "TASK-4"
   ]
  },
  {
   "cell_type": "code",
   "execution_count": 96,
   "id": "07bacb19",
   "metadata": {},
   "outputs": [
    {
     "data": {
      "text/plain": [
       "col-1     9\n",
       "col-2    11\n",
       "col-3    19\n",
       "col-4    40\n",
       "Name: 4, dtype: int32"
      ]
     },
     "execution_count": 96,
     "metadata": {},
     "output_type": "execute_result"
    }
   ],
   "source": [
    "df.loc[4]"
   ]
  },
  {
   "cell_type": "code",
   "execution_count": 97,
   "id": "843399f5",
   "metadata": {},
   "outputs": [
    {
     "data": {
      "text/plain": [
       "col-1    0\n",
       "col-2    0\n",
       "col-3    0\n",
       "col-4    0\n",
       "dtype: int64"
      ]
     },
     "execution_count": 97,
     "metadata": {},
     "output_type": "execute_result"
    }
   ],
   "source": [
    "df.isnull().sum()"
   ]
  },
  {
   "cell_type": "code",
   "execution_count": null,
   "id": "cf4b1947",
   "metadata": {},
   "outputs": [],
   "source": []
  }
 ],
 "metadata": {
  "kernelspec": {
   "display_name": "ML",
   "language": "python",
   "name": "ml"
  },
  "language_info": {
   "codemirror_mode": {
    "name": "ipython",
    "version": 3
   },
   "file_extension": ".py",
   "mimetype": "text/x-python",
   "name": "python",
   "nbconvert_exporter": "python",
   "pygments_lexer": "ipython3",
   "version": "3.10.6"
  }
 },
 "nbformat": 4,
 "nbformat_minor": 5
}
